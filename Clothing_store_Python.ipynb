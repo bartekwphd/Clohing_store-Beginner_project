{
 "cells": [
  {
   "cell_type": "markdown",
   "id": "126224ce",
   "metadata": {},
   "source": [
    "# Clohing_store - Beginner_project"
   ]
  },
  {
   "cell_type": "markdown",
   "id": "d5d63537",
   "metadata": {},
   "source": [
    "This script connects to **MySQL Workbench**. Thanks to this, using the **Python** programming language it is possible to query SQL queries. This is a supplement to the SQL file written in the MySQL Workbench environment contained in this repository. The script presents a database of an imaginary **Clothing store** and a short data analysis using basic SQL queries."
   ]
  },
  {
   "cell_type": "code",
   "execution_count": 1,
   "id": "cce58b38",
   "metadata": {},
   "outputs": [],
   "source": [
    "# Importing MySQL Connector\n",
    "import mysql.connector"
   ]
  },
  {
   "cell_type": "markdown",
   "id": "78b0d5f0",
   "metadata": {},
   "source": [
    "#### 1. Create a \"Clothing Store\" Database"
   ]
  },
  {
   "cell_type": "code",
   "execution_count": 2,
   "id": "a76a7755",
   "metadata": {},
   "outputs": [],
   "source": [
    "# Creating a connection to the MySQL Workbench\n",
    "mydb = mysql.connector.connect(\n",
    "  host=\"***\",\n",
    "  user=\"***\",\n",
    "  password=\"***\"\n",
    ")\n",
    "\n",
    "mycursor = mydb.cursor()\n",
    "\n",
    "mycursor.execute(\"CREATE DATABASE clothing_store\")"
   ]
  },
  {
   "cell_type": "markdown",
   "id": "9017c450",
   "metadata": {},
   "source": [
    "#### 2. Create a \"Supplier\" table with the following columns:\n",
    "* Supplier_Id\n",
    "* Supplier_Name\n",
    "* Supplier_Address\n",
    "* Supplier_NIP\n",
    "* Contract_Signing_Date_With_Producer\n",
    "\n",
    "-- Set the appropriate \"constraint\" for each column"
   ]
  },
  {
   "cell_type": "code",
   "execution_count": 3,
   "id": "60c97152",
   "metadata": {},
   "outputs": [],
   "source": [
    "# Creating a connection to the database\n",
    "mydb = mysql.connector.connect(\n",
    "  host=\"***\",\n",
    "  user=\"***\",\n",
    "  password=\"***\",\n",
    "  database=\"clothing_store\"\n",
    ")\n",
    "\n",
    "mycursor = mydb.cursor()\n",
    "\n",
    "mycursor.execute(\n",
    "\"\"\"CREATE TABLE Supplier(\n",
    "Supplier_Id INT PRIMARY KEY,\n",
    "Supplier_Name VARCHAR(20) UNIQUE,\n",
    "Supplier_Address VARCHAR(30),\n",
    "Supplier_NIP BIGINT,\n",
    "Contract_Signing_Date_With_Producer DATE\n",
    ")\"\"\")"
   ]
  },
  {
   "cell_type": "markdown",
   "id": "ad4755dc",
   "metadata": {},
   "source": [
    "#### 3. Create a \"Product\" table with the following columns:\n",
    "* Product_Id\n",
    "* Supplier_Name\n",
    "* Product_Name\n",
    "* Product_Description\n",
    "* Net_Purchase_Price\n",
    "* Gross_Purchase_Price\n",
    "* Net_Selling_Price\n",
    "* Gross_Seling_Price\n",
    "* Sales_VAT_Percentage\n",
    "\n",
    "-- Set the appropriate \"constraint\" for each column"
   ]
  },
  {
   "cell_type": "code",
   "execution_count": 4,
   "id": "502647c9",
   "metadata": {},
   "outputs": [],
   "source": [
    "mycursor.execute(\n",
    "\"\"\"CREATE TABLE Product(\n",
    "Product_Id INT PRIMARY KEY,\n",
    "Supplier_Name VARCHAR(20) NOT NULL,\n",
    "Product_Name VARCHAR(20) NOT NULL,\n",
    "Product_Description VARCHAR(10),\n",
    "Net_Purchase_Price FLOAT NOT NULL,\n",
    "Gross_Purchase_Price FLOAT NOT NULL,\n",
    "Net_Selling_Price FLOAT NOT NULL,\n",
    "Gross_Selling_Price FLOAT NOT NULL,\n",
    "Sales_VAT_Percentage FLOAT NOT NULL\n",
    ")\"\"\")"
   ]
  },
  {
   "cell_type": "markdown",
   "id": "d33b02af",
   "metadata": {},
   "source": [
    "#### 4. Create a \"Orders\" table with the following columns:\n",
    "* Order_Id,\n",
    "* Customer_Id,\n",
    "* Product_Id,\n",
    "* Order_Date\n",
    "\n",
    "-- Set the appropriate \"constraint\" for each column"
   ]
  },
  {
   "cell_type": "code",
   "execution_count": 5,
   "id": "9b435476",
   "metadata": {},
   "outputs": [],
   "source": [
    "mycursor.execute(\n",
    "\"\"\"CREATE TABLE Orders(\n",
    "Order_Id INT PRIMARY KEY,\n",
    "Customer_Id INT,\n",
    "Product_Id INT,\n",
    "Order_Date DATE\n",
    ")\"\"\")"
   ]
  },
  {
   "cell_type": "markdown",
   "id": "5a5879b2",
   "metadata": {},
   "source": [
    "#### 5. Create a \"Customer\" table with the following columns:\n",
    "* Customer_Id\n",
    "* Order_Id\n",
    "* First_Name\n",
    "* Last_Name\n",
    "* Address\n",
    "\n",
    "-- Set the appropriate \"constraint\" for each column"
   ]
  },
  {
   "cell_type": "code",
   "execution_count": 6,
   "id": "0461bd10",
   "metadata": {},
   "outputs": [],
   "source": [
    "mycursor.execute(\n",
    "\"\"\"CREATE TABLE Customer(\n",
    "Customer_Id INT PRIMARY KEY,\n",
    "Order_Id INT,\n",
    "First_Name VARCHAR(20) NOT NULL,\n",
    "Last_Name VARCHAR(20) NOT NULL,\n",
    "Address VARCHAR(30)\n",
    ")\"\"\")"
   ]
  },
  {
   "cell_type": "code",
   "execution_count": 7,
   "id": "2d746a4a",
   "metadata": {},
   "outputs": [
    {
     "name": "stdout",
     "output_type": "stream",
     "text": [
      "('customer',)\n",
      "('orders',)\n",
      "('product',)\n",
      "('supplier',)\n"
     ]
    }
   ],
   "source": [
    "# Displaying all created tables\n",
    "mycursor.execute (\"SHOW TABLES\")\n",
    "\n",
    "for x in mycursor:\n",
    "    print(x)"
   ]
  },
  {
   "cell_type": "markdown",
   "id": "d8c9f3c3",
   "metadata": {},
   "source": [
    "#### 6. Complete each table with data according to:\n",
    "* \"Supplier\" table - 4 items\n",
    "* \"Product\" table - 20 items\n",
    "* \"Orders\" table - 10 items\n",
    "* \"Customer\" table - 10 items"
   ]
  },
  {
   "cell_type": "code",
   "execution_count": 8,
   "id": "c0b70a09",
   "metadata": {},
   "outputs": [
    {
     "name": "stdout",
     "output_type": "stream",
     "text": [
      "4 was inserted\n"
     ]
    }
   ],
   "source": [
    "sql_supplier = \"\"\"INSERT INTO Supplier (\n",
    "Supplier_Id, \n",
    "Supplier_Name, \n",
    "Supplier_Address, \n",
    "Supplier_NIP, \n",
    "Contract_Signing_Date_With_Producer\n",
    ") \n",
    "VALUES (%s, %s, %s, %s, %s)\"\"\"\n",
    "\n",
    "val_supplier = [\n",
    "(1, 'BeFirst', 'Zielona 35, Gdansk', 1234567890, '2012-05-16'),\n",
    "(2, 'Adios', 'Niebieska 17, Krakow', 3987654321, '2010-03-11'),\n",
    "(3, '4win', 'Czarna 33, Wroclaw', 1357908642, '2009-10-30'),\n",
    "(4, 'OneTwo', 'Czerwona 14, Katowice', 2468097531, '2013-12-01'\n",
    ")]\n",
    "\n",
    "mycursor.executemany(sql_supplier, val_supplier)\n",
    "mydb.commit()\n",
    "\n",
    "print(mycursor.rowcount, \"was inserted\")"
   ]
  },
  {
   "cell_type": "code",
   "execution_count": 9,
   "id": "56d1c7b6",
   "metadata": {},
   "outputs": [
    {
     "name": "stdout",
     "output_type": "stream",
     "text": [
      "(1, 'BeFirst', 'Zielona 35, Gdansk', 1234567890, datetime.date(2012, 5, 16))\n",
      "(2, 'Adios', 'Niebieska 17, Krakow', 3987654321, datetime.date(2010, 3, 11))\n",
      "(3, '4win', 'Czarna 33, Wroclaw', 1357908642, datetime.date(2009, 10, 30))\n",
      "(4, 'OneTwo', 'Czerwona 14, Katowice', 2468097531, datetime.date(2013, 12, 1))\n"
     ]
    }
   ],
   "source": [
    "mycursor.execute(\"SELECT * FROM Supplier\")\n",
    "\n",
    "myresult = mycursor.fetchall()\n",
    "\n",
    "for x in myresult:\n",
    "    print(x)"
   ]
  },
  {
   "cell_type": "code",
   "execution_count": 10,
   "id": "6947be15",
   "metadata": {},
   "outputs": [
    {
     "name": "stdout",
     "output_type": "stream",
     "text": [
      "20 was inserted\n"
     ]
    }
   ],
   "source": [
    "sql_product = \"\"\"INSERT INTO Product (\n",
    "Product_Id,\n",
    "Supplier_Name,\n",
    "Product_Name,\n",
    "Product_Description,\n",
    "Net_Purchase_Price,\n",
    "Gross_Purchase_Price,\n",
    "Net_Selling_Price,\n",
    "Gross_Selling_Price,\n",
    "Sales_VAT_Percentage\n",
    ") \n",
    "VALUES (%s, %s, %s, %s, %s, %s, %s, %s, %s)\"\"\"\n",
    "\n",
    "val_product = [\n",
    "(1001, 'BeFirst', 'shoes', 'green', 200, 246, 350, 410, 0.17),\n",
    "(1002, 'Adios', 'shoes', 'black', 150, 188, 310, 380, 0.23),\n",
    "(1003, 'OneTwo', 't-shirt', 'green', 70, 97, 120, 145, 0.21),\n",
    "(1004, '4win', 'cap', 'pink', 50, 65, 100, 125, 0.25),\n",
    "(1005, 'Adios', 'tracksuits', 'black', 125, 170, 190, 233, 0.23),\n",
    "(1006, 'BeFirst', 'cap', 'grey', 92, 114, 135, 171, 0.27),\n",
    "(1007, 'BeFirst', 't-shirt', 'red', 133, 199, 235, 280, 0.19),\n",
    "(1008, 'OneTwo', 'shoes', 'white', 300, 350, 400, 460, 0.15),\n",
    "(1009, 'Adios', 'cap', 'green', 55, 69, 99, 140, 0.41),\n",
    "(1010, '4win', 'shoes', 'grey', 180, 231, 285, 322, 0.13),\n",
    "(1011, '4win', 'tracksuits', 'blue', 100, 130, 177, 200, 0.13),\n",
    "(1012, 'OneTwo', 'cap', 'yellow', 38, 63, 85, 97, 0.14),\n",
    "(1013, 'OneTwo', 'tracksuits', 'orange', 78, 111, 141, 177, 0.26),\n",
    "(1014, 'BeFirst', 'jacket', 'black', 220, 270, 340, 399, 0.17), \n",
    "(1015, 'Adios', 't-shirt', 'green', 99, 129, 159, 199, 0.25),\n",
    "(1016, 'OneTwo', 'jacket', 'white', 100, 133, 180, 211, 0.17),\n",
    "(1017, 'Adios', 'jacket', 'blue', 210, 267, 300, 346, 0.15),\n",
    "(1018, '4win', 't-shirt', 'yellow', 95, 115, 150, 195, 0.30),\n",
    "(1019, 'BeFirst', 'tracksuits', 'purple', 140, 172, 218, 279, 0.28),\n",
    "(1020, '4win', 'jacket', 'white', 370, 417, 510, 599, 0.17\n",
    ")]\n",
    "\n",
    "mycursor.executemany(sql_product, val_product)\n",
    "mydb.commit()\n",
    "\n",
    "print(mycursor.rowcount, \"was inserted\")"
   ]
  },
  {
   "cell_type": "code",
   "execution_count": 11,
   "id": "c284cf1b",
   "metadata": {},
   "outputs": [
    {
     "name": "stdout",
     "output_type": "stream",
     "text": [
      "(1001, 'BeFirst', 'shoes', 'green', 200.0, 246.0, 350.0, 410.0, 0.17)\n",
      "(1002, 'Adios', 'shoes', 'black', 150.0, 188.0, 310.0, 380.0, 0.23)\n",
      "(1003, 'OneTwo', 't-shirt', 'green', 70.0, 97.0, 120.0, 145.0, 0.21)\n",
      "(1004, '4win', 'cap', 'pink', 50.0, 65.0, 100.0, 125.0, 0.25)\n",
      "(1005, 'Adios', 'tracksuits', 'black', 125.0, 170.0, 190.0, 233.0, 0.23)\n",
      "(1006, 'BeFirst', 'cap', 'grey', 92.0, 114.0, 135.0, 171.0, 0.27)\n",
      "(1007, 'BeFirst', 't-shirt', 'red', 133.0, 199.0, 235.0, 280.0, 0.19)\n",
      "(1008, 'OneTwo', 'shoes', 'white', 300.0, 350.0, 400.0, 460.0, 0.15)\n",
      "(1009, 'Adios', 'cap', 'green', 55.0, 69.0, 99.0, 140.0, 0.41)\n",
      "(1010, '4win', 'shoes', 'grey', 180.0, 231.0, 285.0, 322.0, 0.13)\n",
      "(1011, '4win', 'tracksuits', 'blue', 100.0, 130.0, 177.0, 200.0, 0.13)\n",
      "(1012, 'OneTwo', 'cap', 'yellow', 38.0, 63.0, 85.0, 97.0, 0.14)\n",
      "(1013, 'OneTwo', 'tracksuits', 'orange', 78.0, 111.0, 141.0, 177.0, 0.26)\n",
      "(1014, 'BeFirst', 'jacket', 'black', 220.0, 270.0, 340.0, 399.0, 0.17)\n",
      "(1015, 'Adios', 't-shirt', 'green', 99.0, 129.0, 159.0, 199.0, 0.25)\n",
      "(1016, 'OneTwo', 'jacket', 'white', 100.0, 133.0, 180.0, 211.0, 0.17)\n",
      "(1017, 'Adios', 'jacket', 'blue', 210.0, 267.0, 300.0, 346.0, 0.15)\n",
      "(1018, '4win', 't-shirt', 'yellow', 95.0, 115.0, 150.0, 195.0, 0.3)\n",
      "(1019, 'BeFirst', 'tracksuits', 'purple', 140.0, 172.0, 218.0, 279.0, 0.28)\n",
      "(1020, '4win', 'jacket', 'white', 370.0, 417.0, 510.0, 599.0, 0.17)\n"
     ]
    }
   ],
   "source": [
    "mycursor.execute(\"SELECT * FROM Product\")\n",
    "\n",
    "myresult = mycursor.fetchall()\n",
    "\n",
    "for x in myresult:\n",
    "    print(x)"
   ]
  },
  {
   "cell_type": "code",
   "execution_count": 12,
   "id": "27774cfe",
   "metadata": {},
   "outputs": [
    {
     "name": "stdout",
     "output_type": "stream",
     "text": [
      "10 was inserted\n"
     ]
    }
   ],
   "source": [
    "sql_orders = \"\"\"INSERT INTO Orders (\n",
    "Order_Id,\n",
    "Customer_Id,\n",
    "Product_Id,\n",
    "Order_Date\n",
    ")\n",
    "VALUES (%s, %s, %s, %s)\"\"\"\n",
    "\n",
    "val_orders = [\n",
    "(1, 101, 1020, '2018-12-08'),\n",
    "(2, 102, 1015, '2017-10-03'),\n",
    "(3, 103, 1001, '2015-07-13'),\n",
    "(4, 104, 1019, '2021-05-08'),\n",
    "(5, 105, 1003, '2021-05-08'),\n",
    "(6, 106, 1015, '2019-04-22'),\n",
    "(7, 107, 1010, '2016-05-29'),\n",
    "(8, 108, 1015, '2021-01-19'),\n",
    "(9, 109, 1008, '2020-09-04'),\n",
    "(10, 110, 1017, '2019-02-23'\n",
    ")]\n",
    "\n",
    "mycursor.executemany(sql_orders, val_orders)\n",
    "mydb.commit()\n",
    "\n",
    "print(mycursor.rowcount, \"was inserted\")"
   ]
  },
  {
   "cell_type": "code",
   "execution_count": 13,
   "id": "caa1105d",
   "metadata": {},
   "outputs": [
    {
     "name": "stdout",
     "output_type": "stream",
     "text": [
      "(1, 101, 1020, datetime.date(2018, 12, 8))\n",
      "(2, 102, 1015, datetime.date(2017, 10, 3))\n",
      "(3, 103, 1001, datetime.date(2015, 7, 13))\n",
      "(4, 104, 1019, datetime.date(2021, 5, 8))\n",
      "(5, 105, 1003, datetime.date(2021, 5, 8))\n",
      "(6, 106, 1015, datetime.date(2019, 4, 22))\n",
      "(7, 107, 1010, datetime.date(2016, 5, 29))\n",
      "(8, 108, 1015, datetime.date(2021, 1, 19))\n",
      "(9, 109, 1008, datetime.date(2020, 9, 4))\n",
      "(10, 110, 1017, datetime.date(2019, 2, 23))\n"
     ]
    }
   ],
   "source": [
    "mycursor.execute(\"SELECT * FROM Orders\")\n",
    "\n",
    "myresult = mycursor.fetchall()\n",
    "\n",
    "for x in myresult:\n",
    "    print(x)"
   ]
  },
  {
   "cell_type": "code",
   "execution_count": 14,
   "id": "c1f0ca2c",
   "metadata": {},
   "outputs": [
    {
     "name": "stdout",
     "output_type": "stream",
     "text": [
      "10 was inserted\n"
     ]
    }
   ],
   "source": [
    "sql_customer = \"\"\"INSERT INTO Customer (\n",
    "Customer_Id,\n",
    "Order_Id,\n",
    "First_Name,\n",
    "Last_Name,\n",
    "Address\n",
    ")\n",
    "VALUES (%s, %s, %s, %s, %s)\"\"\"\n",
    "\n",
    "val_customer = [\n",
    "(101, 1, 'Jan', 'Kowalski', 'Rumiankowa 13, Warszawa'),\n",
    "(102, 2, 'Piotr', 'Nowak', 'Jesionowa 4, Wroclaw'),\n",
    "(103, 3, 'Anna', 'Kwiatkowska', 'Kasztanowa 14, Gdansk'),\n",
    "(104, 4, 'Katarzyna', 'Wozniak', 'Bukowa 78, Krakow'),\n",
    "(105, 5, 'Kazimierz', 'Marciniak', 'Lipowa 13, Katowice'),\n",
    "(106, 6, 'Bozena', 'Grabowska', 'Akacjowa 21, Lublin'),\n",
    "(107, 7, 'Michal', 'Michalski', 'Truskawkowa 28, Torun'),\n",
    "(108, 8, 'Martyna', 'Bruska', 'Topolowa 11, Poznan'),\n",
    "(109, 9, 'Andrzej', 'Wolski', 'Jasminowa 99, Bialystok'),\n",
    "(110, 10, 'Maria', 'Bimber', 'Brzoskwiniowa 44, Szczecin'\n",
    ")]\n",
    "\n",
    "mycursor.executemany(sql_customer, val_customer)\n",
    "mydb.commit()\n",
    "\n",
    "print(mycursor.rowcount, \"was inserted\")"
   ]
  },
  {
   "cell_type": "code",
   "execution_count": 15,
   "id": "8a29632c",
   "metadata": {},
   "outputs": [
    {
     "name": "stdout",
     "output_type": "stream",
     "text": [
      "(101, 1, 'Jan', 'Kowalski', 'Rumiankowa 13, Warszawa')\n",
      "(102, 2, 'Piotr', 'Nowak', 'Jesionowa 4, Wroclaw')\n",
      "(103, 3, 'Anna', 'Kwiatkowska', 'Kasztanowa 14, Gdansk')\n",
      "(104, 4, 'Katarzyna', 'Wozniak', 'Bukowa 78, Krakow')\n",
      "(105, 5, 'Kazimierz', 'Marciniak', 'Lipowa 13, Katowice')\n",
      "(106, 6, 'Bozena', 'Grabowska', 'Akacjowa 21, Lublin')\n",
      "(107, 7, 'Michal', 'Michalski', 'Truskawkowa 28, Torun')\n",
      "(108, 8, 'Martyna', 'Bruska', 'Topolowa 11, Poznan')\n",
      "(109, 9, 'Andrzej', 'Wolski', 'Jasminowa 99, Bialystok')\n",
      "(110, 10, 'Maria', 'Bimber', 'Brzoskwiniowa 44, Szczecin')\n"
     ]
    }
   ],
   "source": [
    "mycursor.execute(\"SELECT * FROM Customer\")\n",
    "\n",
    "myresult = mycursor.fetchall()\n",
    "\n",
    "for x in myresult:\n",
    "    print(x)"
   ]
  },
  {
   "cell_type": "markdown",
   "id": "cdcd09da",
   "metadata": {},
   "source": [
    "#### 7. Link the columns together so that the tables communicate with each other\n",
    "* Product - Supplier\n",
    "* Product - Orders\n",
    "* Orders - Customer"
   ]
  },
  {
   "cell_type": "code",
   "execution_count": 16,
   "id": "5b7451bb",
   "metadata": {},
   "outputs": [],
   "source": [
    "sql_link1 = \"\"\"ALTER TABLE Product\n",
    "ADD FOREIGN KEY (Supplier_Name) \n",
    "REFERENCES Supplier(Supplier_Name)\"\"\"\n",
    "\n",
    "mycursor.execute(sql_link1)\n",
    "\n",
    "mydb.commit()"
   ]
  },
  {
   "cell_type": "code",
   "execution_count": 17,
   "id": "6ff0215e",
   "metadata": {},
   "outputs": [],
   "source": [
    "sql_link2 = \"\"\"ALTER TABLE Orders\n",
    "ADD FOREIGN KEY (Product_Id)\n",
    "REFERENCES Product(Product_Id)\"\"\"\n",
    "\n",
    "mycursor.execute(sql_link2)\n",
    "\n",
    "mydb.commit()"
   ]
  },
  {
   "cell_type": "code",
   "execution_count": 18,
   "id": "26f86d0b",
   "metadata": {},
   "outputs": [],
   "source": [
    "sql_link3 = \"\"\"ALTER TABLE Orders\n",
    "ADD FOREIGN KEY (Customer_Id)\n",
    "REFERENCES Customer(Customer_ID)\"\"\"\n",
    "\n",
    "mycursor.execute(sql_link3)\n",
    "\n",
    "mydb.commit()"
   ]
  },
  {
   "cell_type": "code",
   "execution_count": 19,
   "id": "73762034",
   "metadata": {},
   "outputs": [],
   "source": [
    "sql_link4 = \"\"\"ALTER TABLE Customer\n",
    "ADD FOREIGN KEY (Order_Id)\n",
    "REFERENCES Orders(Order_Id)\"\"\"\n",
    "\n",
    "mycursor.execute(sql_link4)\n",
    "\n",
    "mydb.commit()"
   ]
  },
  {
   "cell_type": "markdown",
   "id": "265952bb",
   "metadata": {},
   "source": [
    "#### 8. Display all products with all data from the supplier that is in position 1 in the \"Supplier\" table"
   ]
  },
  {
   "cell_type": "code",
   "execution_count": 20,
   "id": "338c4140",
   "metadata": {},
   "outputs": [
    {
     "name": "stdout",
     "output_type": "stream",
     "text": [
      "('shoes', 'BeFirst', 1, 'Zielona 35, Gdansk', 1234567890, datetime.date(2012, 5, 16))\n",
      "('cap', 'BeFirst', 1, 'Zielona 35, Gdansk', 1234567890, datetime.date(2012, 5, 16))\n",
      "('t-shirt', 'BeFirst', 1, 'Zielona 35, Gdansk', 1234567890, datetime.date(2012, 5, 16))\n",
      "('jacket', 'BeFirst', 1, 'Zielona 35, Gdansk', 1234567890, datetime.date(2012, 5, 16))\n",
      "('tracksuits', 'BeFirst', 1, 'Zielona 35, Gdansk', 1234567890, datetime.date(2012, 5, 16))\n"
     ]
    }
   ],
   "source": [
    "mycursor.execute(\n",
    "\"\"\"SELECT Product_Name, Product.Supplier_Name, Supplier_Id, \n",
    "Supplier_Address, Supplier_NIP, Contract_Signing_Date_With_Producer\n",
    "FROM Product, Supplier\n",
    "WHERE Product.Supplier_Name = Supplier.Supplier_Name\n",
    "AND Supplier_Id = 1\"\"\"\n",
    ")\n",
    "\n",
    "myresult = mycursor.fetchall()\n",
    "\n",
    "for x in myresult:\n",
    "    print(x)"
   ]
  },
  {
   "cell_type": "markdown",
   "id": "e6eb83b0",
   "metadata": {},
   "source": [
    "#### 9. Sort these products by Name from A-B"
   ]
  },
  {
   "cell_type": "code",
   "execution_count": 21,
   "id": "ca6e0ef0",
   "metadata": {},
   "outputs": [
    {
     "name": "stdout",
     "output_type": "stream",
     "text": [
      "('cap', 'BeFirst', 1, 'Zielona 35, Gdansk', 1234567890, datetime.date(2012, 5, 16))\n",
      "('jacket', 'BeFirst', 1, 'Zielona 35, Gdansk', 1234567890, datetime.date(2012, 5, 16))\n",
      "('shoes', 'BeFirst', 1, 'Zielona 35, Gdansk', 1234567890, datetime.date(2012, 5, 16))\n",
      "('t-shirt', 'BeFirst', 1, 'Zielona 35, Gdansk', 1234567890, datetime.date(2012, 5, 16))\n",
      "('tracksuits', 'BeFirst', 1, 'Zielona 35, Gdansk', 1234567890, datetime.date(2012, 5, 16))\n"
     ]
    }
   ],
   "source": [
    "mycursor.execute(\n",
    "\"\"\"SELECT Product_Name, Product.Supplier_Name, Supplier_Id, \n",
    "Supplier_Address, Supplier_NIP, Contract_Signing_Date_With_Producer\n",
    "FROM Product, Supplier\n",
    "WHERE Product.Supplier_Name = Supplier.Supplier_Name\n",
    "AND Supplier_Id = 1\n",
    "ORDER BY Product_Name ASC\"\"\"\n",
    ")\n",
    "\n",
    "myresult = mycursor.fetchall()\n",
    "\n",
    "for x in myresult:\n",
    "    print(x)"
   ]
  },
  {
   "cell_type": "markdown",
   "id": "2619844e",
   "metadata": {},
   "source": [
    "#### 10. Calculate the average price for a product from this supplier"
   ]
  },
  {
   "cell_type": "code",
   "execution_count": 22,
   "id": "92dc55aa",
   "metadata": {},
   "outputs": [
    {
     "name": "stdout",
     "output_type": "stream",
     "text": [
      "(224.0, 1)\n"
     ]
    }
   ],
   "source": [
    "mycursor.execute(\n",
    "\"\"\"SELECT ROUND(AVG(Net_Selling_Price), 0) AS Average_Price, Supplier_Id\n",
    "FROM Product, Supplier\n",
    "WHERE Supplier_Id = 1\"\"\"\n",
    ")\n",
    "\n",
    "myresult = mycursor.fetchall()\n",
    "\n",
    "for x in myresult:\n",
    "    print(x)"
   ]
  },
  {
   "cell_type": "markdown",
   "id": "b7056a4f",
   "metadata": {},
   "source": [
    "#### 11. Display two product groups of this supplier:\n",
    "* Half of the cheapest are group: \"Cheap\"\n",
    "* Others are group: \"Expensive\""
   ]
  },
  {
   "cell_type": "code",
   "execution_count": 23,
   "id": "cc6ac726",
   "metadata": {},
   "outputs": [
    {
     "name": "stdout",
     "output_type": "stream",
     "text": [
      "('cap', 85.0, 'Cheap')\n",
      "('cap', 99.0, 'Cheap')\n",
      "('cap', 100.0, 'Cheap')\n",
      "('t-shirt', 120.0, 'Cheap')\n",
      "('cap', 135.0, 'Cheap')\n",
      "('tracksuits', 141.0, 'Cheap')\n",
      "('t-shirt', 150.0, 'Cheap')\n",
      "('t-shirt', 159.0, 'Cheap')\n",
      "('tracksuits', 177.0, 'Cheap')\n",
      "('jacket', 180.0, 'Cheap')\n",
      "('tracksuits', 190.0, 'Expensive')\n",
      "('tracksuits', 218.0, 'Expensive')\n",
      "('t-shirt', 235.0, 'Expensive')\n",
      "('shoes', 285.0, 'Expensive')\n",
      "('jacket', 300.0, 'Expensive')\n",
      "('shoes', 310.0, 'Expensive')\n",
      "('jacket', 340.0, 'Expensive')\n",
      "('shoes', 350.0, 'Expensive')\n",
      "('shoes', 400.0, 'Expensive')\n",
      "('jacket', 510.0, 'Expensive')\n"
     ]
    }
   ],
   "source": [
    "mycursor.execute(\n",
    "\"\"\"SELECT Product_Name, Net_Selling_Price,\n",
    "CASE\n",
    "    WHEN NTILE (2) OVER (ORDER BY Net_Selling_Price) = 1 THEN 'Cheap' \n",
    "    WHEN NTILE (2) OVER (ORDER BY Net_Selling_Price) = 2 THEN 'Expensive'\n",
    "END\n",
    "FROM Product, Supplier\n",
    "WHERE Supplier_Id = 1\"\"\"\n",
    ")\n",
    "\n",
    "myresult = mycursor.fetchall()\n",
    "\n",
    "for x in myresult:\n",
    "    print(x)"
   ]
  },
  {
   "cell_type": "markdown",
   "id": "1d7850e0",
   "metadata": {},
   "source": [
    "#### 12. Display ordered products by displaying the name"
   ]
  },
  {
   "cell_type": "code",
   "execution_count": 24,
   "id": "36bd2c55",
   "metadata": {},
   "outputs": [
    {
     "name": "stdout",
     "output_type": "stream",
     "text": [
      "(3, 'shoes')\n",
      "(5, 't-shirt')\n",
      "(9, 'shoes')\n",
      "(7, 'shoes')\n",
      "(2, 't-shirt')\n",
      "(6, 't-shirt')\n",
      "(8, 't-shirt')\n",
      "(10, 'jacket')\n",
      "(4, 'tracksuits')\n",
      "(1, 'jacket')\n"
     ]
    }
   ],
   "source": [
    "mycursor.execute(\n",
    "\"\"\"SELECT Orders.Order_Id, Product.Product_Name\n",
    "FROM Orders\n",
    "JOIN Product \n",
    "ON Orders.Product_Id = Product.Product_Id\"\"\"\n",
    ")\n",
    "\n",
    "myresult = mycursor.fetchall()\n",
    "\n",
    "for x in myresult:\n",
    "    print(x)"
   ]
  },
  {
   "cell_type": "markdown",
   "id": "b7664031",
   "metadata": {},
   "source": [
    "#### 13. Display all products ordered - limited to the displayed 5 items"
   ]
  },
  {
   "cell_type": "code",
   "execution_count": 25,
   "id": "10616ea0",
   "metadata": {},
   "outputs": [
    {
     "name": "stdout",
     "output_type": "stream",
     "text": [
      "(3, 'shoes')\n",
      "(5, 't-shirt')\n",
      "(9, 'shoes')\n",
      "(7, 'shoes')\n",
      "(2, 't-shirt')\n"
     ]
    }
   ],
   "source": [
    "mycursor.execute(\n",
    "\"\"\"SELECT Orders.Order_Id, Product.Product_Name\n",
    "FROM Orders\n",
    "JOIN Product \n",
    "ON Orders.Product_Id = Product.Product_Id\n",
    "LIMIT 5\"\"\"\n",
    ")\n",
    "\n",
    "myresult = mycursor.fetchall()\n",
    "\n",
    "for x in myresult:\n",
    "    print(x)"
   ]
  },
  {
   "cell_type": "markdown",
   "id": "fb72bc08",
   "metadata": {},
   "source": [
    "#### 14. Calculate the value of all orders"
   ]
  },
  {
   "cell_type": "code",
   "execution_count": 26,
   "id": "af83cb8d",
   "metadata": {},
   "outputs": [
    {
     "name": "stdout",
     "output_type": "stream",
     "text": [
      "(3158.0,)\n"
     ]
    }
   ],
   "source": [
    "mycursor.execute(\n",
    "\"\"\"SELECT SUM(Gross_Selling_Price) AS Total_Order_Value\n",
    "FROM Product\n",
    "INNER JOIN Orders\n",
    "ON Product.Product_Id = Orders.Product_Id\"\"\"\n",
    ")\n",
    "\n",
    "myresult = mycursor.fetchall()\n",
    "\n",
    "for x in myresult:\n",
    "    print(x)"
   ]
  },
  {
   "cell_type": "markdown",
   "id": "42a875ae",
   "metadata": {},
   "source": [
    "#### 15. Display all orders and products sorted by date from oldest to newest"
   ]
  },
  {
   "cell_type": "code",
   "execution_count": 27,
   "id": "25fccd31",
   "metadata": {},
   "outputs": [
    {
     "name": "stdout",
     "output_type": "stream",
     "text": [
      "(datetime.date(2015, 7, 13), 3, 'shoes')\n",
      "(datetime.date(2016, 5, 29), 7, 'shoes')\n",
      "(datetime.date(2017, 10, 3), 2, 't-shirt')\n",
      "(datetime.date(2018, 12, 8), 1, 'jacket')\n",
      "(datetime.date(2019, 2, 23), 10, 'jacket')\n",
      "(datetime.date(2019, 4, 22), 6, 't-shirt')\n",
      "(datetime.date(2020, 9, 4), 9, 'shoes')\n",
      "(datetime.date(2021, 1, 19), 8, 't-shirt')\n",
      "(datetime.date(2021, 5, 8), 4, 'tracksuits')\n",
      "(datetime.date(2021, 5, 8), 5, 't-shirt')\n"
     ]
    }
   ],
   "source": [
    "mycursor.execute(\n",
    "\"\"\"SELECT Orders.Order_Date, Orders.Order_Id, Product.Product_Name\n",
    "FROM Orders, Product\n",
    "WHERE Orders.Product_Id = Product.Product_Id\n",
    "ORDER BY Orders.Order_Date\"\"\"\n",
    ")\n",
    "\n",
    "myresult = mycursor.fetchall()\n",
    "\n",
    "for x in myresult:\n",
    "    print(x)"
   ]
  },
  {
   "cell_type": "markdown",
   "id": "d7b858e4",
   "metadata": {},
   "source": [
    "#### 16. Check if you have completed all data in the products table - display items for which data is missing"
   ]
  },
  {
   "cell_type": "code",
   "execution_count": 28,
   "id": "c03475f2",
   "metadata": {},
   "outputs": [],
   "source": [
    "mycursor.execute(\n",
    "\"\"\"SELECT * FROM Product\n",
    "WHERE Product_Name IS NULL\n",
    "OR Supplier_Name IS NULL \n",
    "OR Product_Name IS NULL\n",
    "OR Product_Description IS NULL \n",
    "OR Net_Purchase_Price IS NULL \n",
    "OR Gross_Purchase_Price IS NULL\n",
    "OR Net_Selling_Price IS NULL \n",
    "OR Gross_Selling_Price IS NULL \n",
    "OR Sales_VAT_Percentage IS NULL\"\"\"\n",
    ")\n",
    "\n",
    "myresult = mycursor.fetchall()\n",
    "\n",
    "for x in myresult:\n",
    "    print(x)"
   ]
  },
  {
   "cell_type": "markdown",
   "id": "4dbcfcdc",
   "metadata": {},
   "source": [
    "There is no missing data in the Product table."
   ]
  },
  {
   "cell_type": "markdown",
   "id": "27585374",
   "metadata": {},
   "source": [
    "#### 17. Display the most sold products along with their price"
   ]
  },
  {
   "cell_type": "code",
   "execution_count": 29,
   "id": "bc0c623d",
   "metadata": {},
   "outputs": [
    {
     "name": "stdout",
     "output_type": "stream",
     "text": [
      "('t-shirt', 3, 159.0)\n",
      "('shoes', 1, 350.0)\n",
      "('t-shirt', 1, 120.0)\n",
      "('shoes', 1, 400.0)\n",
      "('shoes', 1, 285.0)\n",
      "('jacket', 1, 300.0)\n",
      "('tracksuits', 1, 218.0)\n",
      "('jacket', 1, 510.0)\n"
     ]
    }
   ],
   "source": [
    "mycursor.execute(\n",
    "\"\"\"SELECT Product_Name, COUNT(Product_Name) AS Best, Net_Selling_Price\n",
    "FROM Product\n",
    "INNER JOIN Orders\n",
    "ON Product.Product_Id = Orders.Product_Id\n",
    "GROUP BY Product_Name, Net_Selling_Price\n",
    "ORDER BY Best DESC\"\"\"\n",
    ")\n",
    "\n",
    "myresult = mycursor.fetchall()\n",
    "\n",
    "for x in myresult:\n",
    "    print(x)"
   ]
  },
  {
   "cell_type": "markdown",
   "id": "6455b5a7",
   "metadata": {},
   "source": [
    "#### 18. Find the day with the most orders placed"
   ]
  },
  {
   "cell_type": "code",
   "execution_count": 30,
   "id": "85cb4be5",
   "metadata": {},
   "outputs": [
    {
     "name": "stdout",
     "output_type": "stream",
     "text": [
      "(datetime.date(2021, 5, 8), 2)\n"
     ]
    }
   ],
   "source": [
    "mycursor.execute(\"\"\"SELECT DISTINCT Order_Date, COUNT(Order_Date) AS Dates\n",
    "FROM Orders\n",
    "GROUP BY Order_Date\n",
    "ORDER BY Dates DESC\n",
    "LIMIT 1\"\"\")\n",
    "\n",
    "myresult = mycursor.fetchall()\n",
    "\n",
    "for x in myresult:\n",
    "    print(x)"
   ]
  }
 ],
 "metadata": {
  "kernelspec": {
   "display_name": "Python 3 (ipykernel)",
   "language": "python",
   "name": "python3"
  },
  "language_info": {
   "codemirror_mode": {
    "name": "ipython",
    "version": 3
   },
   "file_extension": ".py",
   "mimetype": "text/x-python",
   "name": "python",
   "nbconvert_exporter": "python",
   "pygments_lexer": "ipython3",
   "version": "3.9.13"
  }
 },
 "nbformat": 4,
 "nbformat_minor": 5
}
